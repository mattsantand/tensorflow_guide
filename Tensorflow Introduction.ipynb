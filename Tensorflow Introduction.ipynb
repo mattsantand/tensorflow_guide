{
 "cells": [
  {
   "cell_type": "markdown",
   "metadata": {},
   "source": [
    "# Index \n",
    "\n",
    "1. [Structure of a TensorFlow program](#Structure-of-a-TensorFlow-program)"
   ]
  },
  {
   "cell_type": "markdown",
   "metadata": {},
   "source": [
    "## Structure of a TensorFlow program\n",
    "\n",
    "TensorFlow programs are based mainly on two steps:\n",
    "1. Building the computational graph - an object from the class `tf.Graph`\n",
    "2. Running\\evaluating the computational graph - with the help of a `tf.Session` object.\n",
    "\n",
    "A Graph is a composed of two types of objects\n",
    "* Tensors, **containers** for the values that flow in the graph. These are [`tf.Tensor`](https://www.tensorflow.org/api_docs/python/tf/Tensor) objects. Note that Tensors are **containers**, meaning that, when their value isn't defined (?) until the graph is evaluated in via a `Session().run()` operation.\n",
    "*  Operation nodes (*ops*) - objects of the class [`tf.Operation`](https://www.tensorflow.org/api_docs/python/tf/Operation), describing the operations between the Tensors composing the graph.\n",
    "\n",
    "## Types of inputs\n",
    "\n",
    "There are different types of inputs for the computational graph.\n",
    "The three basic ones are\n",
    "* `tf.constant`: tensor containing an immutable (?) value\n",
    "* [`tf.Variable`](https://www.tensorflow.org/api_docs/python/tf/Variable): tensor containing a variable, i.e. a number that can be changed buy running *ops* on it. Needs to be initialized \n",
    "* `tf.placeholder`: tensor used as placeholder. This means that it is initialized only with the numerical type, but without value. The actual value is assigned through the dictionary `dictionary_`in a `Session.run(..., feed_dict=dictionary_)`."
   ]
  },
  {
   "cell_type": "code",
   "execution_count": 16,
   "metadata": {},
   "outputs": [],
   "source": [
    "import tensorflow as tf\n",
    "import numpy as np"
   ]
  },
  {
   "cell_type": "code",
   "execution_count": 17,
   "metadata": {},
   "outputs": [],
   "source": [
    "# Example of constants\n",
    "a = tf.constant(3)\n",
    "b = tf.constant(4)\n",
    "c = (a+b)/(1-b)\n",
    "\n",
    "# Example of Variables\n",
    "v0 = tf.Variable(1,name = \"my-rank0-variable\" )\n",
    "v1 = tf.Variable([1,2],name = \"my-rank1-variable\" )\n",
    "v2 = v0+v1\n",
    "v3 = tf.Variable(np.array([[1,2]]),name = \"my-rank1-col-variable\" )"
   ]
  },
  {
   "cell_type": "markdown",
   "metadata": {},
   "source": [
    "Before starting making computations, we need to initialize the Tensors of the graph. \n",
    "\n",
    "The most straightforward way is to create an *ops* that, when called, initializes all the variables created so far, using the function `tf.global_variables_initializer()`.\n",
    "\n",
    "```python\n",
    "# Add an Op to initialize global variables.\n",
    "init_op = tf.global_variables_initializer()\n",
    "\n",
    "# Launch the graph in a session.\n",
    "with tf.Session() as sess:\n",
    "    # Run the Op that initializes global variables.\n",
    "    sess.run(init_op)\n",
    "    # ...you can now run any Op that uses variable values...\n",
    "```\n",
    "\n",
    "Another option is to individually initialized the Tensors of interest using their internal *op* `tf.Tensor().initializer`. For example, for `v0`, we could call \n",
    "```python\n",
    "with tf.Session() as sess:\n",
    "    # Run the variable initializer.\n",
    "    sess.run(w.initializer)\n",
    "    # ...you now can run ops that use the value of 'w'...\n",
    "```"
   ]
  },
  {
   "cell_type": "code",
   "execution_count": 18,
   "metadata": {},
   "outputs": [
    {
     "name": "stdout",
     "output_type": "stream",
     "text": [
      "-2.3333333333333335\n",
      "1\n",
      "[1 2]\n",
      "[2 3]\n",
      "[[1 2]]\n"
     ]
    }
   ],
   "source": [
    "init_op = tf.global_variables_initializer()\n",
    "with tf.Session() as sess:\n",
    "    sess.run(init_op)\n",
    "    print(sess.run(c))\n",
    "    print(sess.run(v0))\n",
    "    print(sess.run(v1))\n",
    "    print(sess.run(v2))\n",
    "    print(sess.run(v3))"
   ]
  },
  {
   "cell_type": "code",
   "execution_count": null,
   "metadata": {},
   "outputs": [],
   "source": []
  },
  {
   "cell_type": "code",
   "execution_count": null,
   "metadata": {},
   "outputs": [],
   "source": []
  }
 ],
 "metadata": {
  "kernelspec": {
   "display_name": "Python 3",
   "language": "python",
   "name": "python3"
  },
  "language_info": {
   "codemirror_mode": {
    "name": "ipython",
    "version": 3
   },
   "file_extension": ".py",
   "mimetype": "text/x-python",
   "name": "python",
   "nbconvert_exporter": "python",
   "pygments_lexer": "ipython3",
   "version": "3.7.3"
  }
 },
 "nbformat": 4,
 "nbformat_minor": 2
}
